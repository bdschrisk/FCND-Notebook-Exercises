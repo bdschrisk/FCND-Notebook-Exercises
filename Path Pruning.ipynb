{
 "cells": [
  {
   "cell_type": "markdown",
   "metadata": {},
   "source": [
    "# Path Pruning\n",
    "\n",
    "This notebook will implement a series of path pruning algorithms for the purposes of optimising paths from best-first search algorithms, which are not always optimal."
   ]
  },
  {
   "cell_type": "code",
   "execution_count": 1,
   "metadata": {},
   "outputs": [],
   "source": [
    "from queue import PriorityQueue\n",
    "import numpy as np\n",
    "from enum import Enum\n",
    "import time\n",
    "\n",
    "import matplotlib.pyplot as plt\n",
    "import numpy as np\n",
    "from matplotlib import colors\n",
    "from matplotlib.ticker import PercentFormatter\n",
    "\n",
    "from grid import get_data, create_grid\n",
    "from astar import a_star"
   ]
  },
  {
   "cell_type": "markdown",
   "metadata": {},
   "source": [
    "*Define some helper functions for viewing results*"
   ]
  },
  {
   "cell_type": "code",
   "execution_count": 2,
   "metadata": {},
   "outputs": [],
   "source": [
    "# Helper functions\n",
    "\n",
    "def walkpath(grid, path, start, goal):\n",
    "    node = (start[0], start[1])\n",
    "    walked = [np.array(node, dtype=np.int)]\n",
    "    for i in path:\n",
    "        node = (node[0] + i[0], node[1] + i[1])\n",
    "        walked.append(np.array(node, dtype=np.int))\n",
    "    walked.append(np.array((goal[0], goal[1]), dtype=np.int))\n",
    "    return walked\n",
    "\n",
    "def draw_grid(g, cmap = 'Greys', path = [], start = None, goal = None):\n",
    "    fig = plt.figure(figsize=(10,10))\n",
    "\n",
    "    plt.imshow(g, cmap=cmap, origin='lower')\n",
    "\n",
    "    plt.ylabel('NORTH')\n",
    "    plt.xlabel('EAST')\n",
    "    plt.ylim(ymin=0, ymax=g.shape[0])\n",
    "    plt.xlim(xmin=0, xmax=g.shape[1])\n",
    "    plt.gca().invert_yaxis()\n",
    "    \n",
    "    for i in path:\n",
    "        plt.scatter(int(i[1]), int(i[0]), c='red')\n",
    "    \n",
    "    if not start is None:\n",
    "        plt.scatter(int(start[1]), int(start[0]), c='blue')\n",
    "    \n",
    "    if not goal is None:\n",
    "        plt.scatter(int(goal[1]), int(goal[0]), c='green')\n",
    "\n",
    "    plt.show()"
   ]
  },
  {
   "cell_type": "markdown",
   "metadata": {},
   "source": [
    "## Setup\n",
    "\n",
    "Here we'll define the setup of the path pruning approach.  Using an existing unoptimised path that was found through a previous search, a new more optimal path will be generated while still being admissable."
   ]
  },
  {
   "cell_type": "code",
   "execution_count": 3,
   "metadata": {},
   "outputs": [],
   "source": [
    "# Define paths and environment\n",
    "\n",
    "path = [(-10, 10, 1.4142135623730951), (-10, 10, 1.4142135623730951), (-10, 10, 1.4142135623730951), (-10, 10, 1.4142135623730951), (-10, 10, 1.4142135623730951), (-10, 10, 1.4142135623730951), (10, 10, 1.4142135623730951), (0, 10, 1), (10, 10, 1.4142135623730951), (0, 10, 1), (0, 10, 1), (0, 10, 1), (0, 10, 1), (-10, 10, 1.4142135623730951), (-10, 10, 1.4142135623730951), (-10, 0, 1), (-10, 0, 1), (-10, 10, 1.4142135623730951), (-10, 10, 1.4142135623730951), (-10, 10, 1.4142135623730951), (-10, 10, 1.4142135623730951), (-10, 10, 1.4142135623730951), (-10, 10, 1.4142135623730951), (-10, 10, 1.4142135623730951), (-10, 10, 1.4142135623730951), (-10, 10, 1.4142135623730951), (-10, 0, 1), (-10, 0, 1), (-10, -10, 1.4142135623730951), (0, -10, 1), (-10, -10, 1.4142135623730951), (-10, 0, 1), (-10, -10, 1.4142135623730951), (-10, 0, 1), (-10, 0, 1), (-10, 0, 1), (-10, 10, 1.4142135623730951), (-10, 10, 1.4142135623730951), (-10, 10, 1.4142135623730951), (-10, 10, 1.4142135623730951), (-10, 10, 1.4142135623730951), (0, 10, 1), (0, 10, 1), (0, 10, 1), (0, 10, 1), (-10, 10, 1.4142135623730951), (0, 10, 1), (-10, 10, 1.4142135623730951), (-10, 10, 1.4142135623730951), (-10, 10, 1.4142135623730951), (-10, 10, 1.4142135623730951), (-10, 10, 1.4142135623730951), (-10, 10, 1.4142135623730951), (-10, 10, 1.4142135623730951), (-10, -10, 1.4142135623730951), (-10, -10, 1.4142135623730951), (-10, -10, 1.4142135623730951), (-10, 0, 1), (-10, 0, 1), (-10, 10, 1.4142135623730951), (-10, 10, 1.4142135623730951), (-10, 10, 1.4142135623730951), (-10, 10, 1.4142135623730951), (-10, 10, 1.4142135623730951), (-10, 10, 1.4142135623730951), (-10, 10, 1.4142135623730951), (-10, 10, 1.4142135623730951), (-10, 10, 1.4142135623730951), (0, 10, 1), (-10, 10, 1.4142135623730951), (-10, 10, 1.4142135623730951), (-10, 10, 1.4142135623730951), (-10, 10, 1.4142135623730951), (-10, 10, 1.4142135623730951), (-10, 10, 1.4142135623730951), (-10, 10, 1.4142135623730951), (-10, 10, 1.4142135623730951), (-10, 10, 1.4142135623730951), (-10, 10, 1.4142135623730951), (-10, 10, 1.4142135623730951), (-10, 10, 1.4142135623730951), (-10, 10, 1.4142135623730951), (-10, 10, 1.4142135623730951), (-10, 10, 1.4142135623730951), (-10, 10, 1.4142135623730951), (-10, 10, 1.4142135623730951), (-10, 10, 1.4142135623730951)]\n",
    "\n",
    "start = (720, 100)\n",
    "goal = (10, 730)\n",
    "data = get_data(skiprows = 3)\n",
    "grid = create_grid(data, 30, 5)\n"
   ]
  },
  {
   "cell_type": "code",
   "execution_count": 4,
   "metadata": {},
   "outputs": [
    {
     "data": {
      "image/png": "[encoded data removed]",
      "text/plain": [
       "<matplotlib.figure.Figure at 0x201679887f0>"
      ]
     },
     "metadata": {},
     "output_type": "display_data"
    }
   ],
   "source": [
    "# Visualise the existing path\n",
    "original = walkpath(grid, path, start, goal)\n",
    "draw_grid(grid, cmap = 'gray', path = original, start = start, goal = goal)"
   ]
  },
  {
   "cell_type": "markdown",
   "metadata": {},
   "source": [
    "## Collinear Test\n",
    "\n",
    "The following implements a collinear determinant based path pruning algorithm for generating an admissable path between the start and goal locations, using the waypoints found from a previous search."
   ]
  },
  {
   "cell_type": "code",
   "execution_count": 5,
   "metadata": {},
   "outputs": [],
   "source": [
    "def prune_path(start, goal, path, epsilon = 1e-3):\n",
    "    \"\"\"\n",
    "    Prunes the path to remove redundant states and returns the new path.\n",
    "    \"\"\"\n",
    "    # walk action path\n",
    "    walked = walkpath(grid, path, start, goal)\n",
    "    walked = np.array(walked, dtype=np.float)\n",
    "    walked = np.hstack((np.array(walked), np.ones((walked.shape[0], 1))))\n",
    "    \n",
    "    def determinant(p1, p2, p3):\n",
    "        M = np.vstack((p1, p2, p3))\n",
    "        return np.linalg.det(M)\n",
    "\n",
    "    solution = []\n",
    "    p = 1\n",
    "    # prune path\n",
    "    wp = False\n",
    "    while p <= len(walked)-2:\n",
    "        col = determinant(walked[p-1], walked[p], walked[p+1])\n",
    "        #print(\"[{}] => [{}] => [{}] ::: {}\".format(walked[p-1], walked[p], walked[p+1], col))\n",
    "        col_test = ((-epsilon < col) and (epsilon > col))\n",
    "        if col_test and not wp:\n",
    "            solution.append(walked[p])\n",
    "            wp = True\n",
    "        elif col_test and wp:\n",
    "            pass\n",
    "        else:\n",
    "            solution.append(walked[p])\n",
    "            wp = not col_test\n",
    "        p = p + 1\n",
    "    \n",
    "    solution.append(walked[p])\n",
    "    \n",
    "    return solution"
   ]
  },
  {
   "cell_type": "code",
   "execution_count": 6,
   "metadata": {},
   "outputs": [
    {
     "name": "stdout",
     "output_type": "stream",
     "text": [
      "Path length: 87\n"
     ]
    }
   ],
   "source": [
    "print(\"Path length: {}\".format(len(path)))"
   ]
  },
  {
   "cell_type": "code",
   "execution_count": 7,
   "metadata": {},
   "outputs": [
    {
     "name": "stdout",
     "output_type": "stream",
     "text": [
      "\n",
      "New path length: 26\n",
      "\n",
      "Optimised in 0.005005598068237305 sec\n"
     ]
    }
   ],
   "source": [
    "t0 = time.time()\n",
    "solution = prune_path(start, goal, path)\n",
    "wtime = time.time()-t0\n",
    "print(\"\\nNew path length: {}\".format(len(solution)))\n",
    "print(\"\\nOptimised in {0} sec\".format(wtime))"
   ]
  },
  {
   "cell_type": "markdown",
   "metadata": {},
   "source": [
    "### New waypoints\n",
    "*Display the waypoints after pruning...*"
   ]
  },
  {
   "cell_type": "code",
   "execution_count": 8,
   "metadata": {},
   "outputs": [
    {
     "data": {
      "image/png": "[encoded data removed]",
      "text/plain": [
       "<matplotlib.figure.Figure at 0x20168378400>"
      ]
     },
     "metadata": {},
     "output_type": "display_data"
    }
   ],
   "source": [
    "draw_grid(grid, cmap = 'gray', path = solution, start = start, goal = goal)"
   ]
  },
  {
   "cell_type": "markdown",
   "metadata": {},
   "source": [
    "## Path Expansion\n",
    "\n",
    "The following implements a path pruning by expansion algorithm which works by finding the longest path between the i-th and i+n-th nodes, resulting in a pruned and more optimal path, while still maintaining admissability."
   ]
  },
  {
   "cell_type": "code",
   "execution_count": 26,
   "metadata": {},
   "outputs": [],
   "source": [
    "from bresenham import bresenham\n",
    "\n",
    "def path_free(grid, node1, node2):\n",
    "    x1, y1 = node1\n",
    "    x2, y2 = node2\n",
    "    cells = list(bresenham(x1, y1, x2, y2))\n",
    "    \n",
    "    for (x, y) in cells:\n",
    "        if grid[x, y] > 0:\n",
    "            return False\n",
    "    \n",
    "    return True\n",
    "\n",
    "def expand_path(grid, start, goal, path, lookahead = 10, epochs = 1):\n",
    "    \n",
    "    search_path = path\n",
    "    \n",
    "    for epoch in range(epochs):\n",
    "        new_path = [start]\n",
    "        max_ind = len(search_path) - 1\n",
    "        \n",
    "        current_node = start\n",
    "        index = 0\n",
    "        \n",
    "        while (index < max_ind):\n",
    "\n",
    "            max_dist = 0\n",
    "\n",
    "            for i in range(lookahead):\n",
    "                new_index = index + i + 0\n",
    "\n",
    "                if (new_index > max_ind):\n",
    "                    break\n",
    "\n",
    "                node = search_path[new_index]\n",
    "\n",
    "                if (path_free(grid, current_node, node)):\n",
    "                    dist = np.linalg.norm(np.array(current_node) - np.array(node))\n",
    "                    if dist > max_dist:\n",
    "                        max_dist = dist\n",
    "                        index = new_index\n",
    "\n",
    "            if (max_dist == 0):\n",
    "                index += 1\n",
    "\n",
    "            new_path.append(search_path[index])\n",
    "\n",
    "            current_node = search_path[index]\n",
    "        \n",
    "        search_path = new_path\n",
    "    \n",
    "    return new_path\n",
    "    "
   ]
  },
  {
   "cell_type": "code",
   "execution_count": 31,
   "metadata": {},
   "outputs": [
    {
     "data": {
      "image/png": "[encoded data removed]",
      "text/plain": [
       "<matplotlib.figure.Figure at 0x20167a35860>"
      ]
     },
     "metadata": {},
     "output_type": "display_data"
    },
    {
     "name": "stdout",
     "output_type": "stream",
     "text": [
      "\n",
      "New path length: 9\n",
      "\n",
      "Optimised in 0.04550313949584961 sec\n"
     ]
    }
   ],
   "source": [
    "t1 = time.time()\n",
    "expanded_path = expand_path(grid, start, goal, original, lookahead = 10, epochs = 2)\n",
    "w1time = time.time()-t1\n",
    "draw_grid(grid, cmap = 'gray', path = expanded_path, start = start, goal = goal)\n",
    "\n",
    "print(\"\\nNew path length: {}\".format(len(expanded_path)))\n",
    "print(\"\\nOptimised in {0} sec\".format(w1time))"
   ]
  },
  {
   "cell_type": "code",
   "execution_count": null,
   "metadata": {},
   "outputs": [],
   "source": []
  }
 ],
 "metadata": {
  "anaconda-cloud": {},
  "kernelspec": {
   "display_name": "Python 3",
   "language": "python",
   "name": "python3"
  },
  "language_info": {
   "codemirror_mode": {
    "name": "ipython",
    "version": 3
   },
   "file_extension": ".py",
   "mimetype": "text/x-python",
   "name": "python",
   "nbconvert_exporter": "python",
   "pygments_lexer": "ipython3",
   "version": "3.6.3"
  }
 },
 "nbformat": 4,
 "nbformat_minor": 2
}
