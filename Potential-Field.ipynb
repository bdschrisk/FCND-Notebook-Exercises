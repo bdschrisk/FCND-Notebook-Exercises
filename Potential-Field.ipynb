{
 "cells": [
  {
   "cell_type": "markdown",
   "metadata": {},
   "source": [
    "# Potential Field\n",
    "\n",
    "In this notebook you'll create a potential field by implement and combine attractive and replusive forces. We can use the potential field to move in a direction closer to the goal (attraction) while avoiding obstacles (repulsion).\n",
    "\n",
    "Recall from lecture and the attraction potential is:\n",
    "\n",
    "$$F_{att} = \\alpha * (x - x_{goal})$$\n",
    "\n",
    "and repulsion potential, which is only computed when $d(x - x_{obs}) < Q_{max}$:\n",
    "\n",
    "$$F_{rep} = \\beta * (\\frac{1}{Q_{max}} - \\frac{1}{d(x - x_{obs})}) * \\frac{1}{d(x - x_{obs})^2}$$\n",
    "\n",
    "where $x_{goal}$ is the goal location, $x_{obs}$ is the obstacle location and $d(...)$ is the distance metric."
   ]
  },
  {
   "cell_type": "code",
   "execution_count": 1,
   "metadata": {},
   "outputs": [],
   "source": [
    "import numpy as np\n",
    "from enum import Enum\n",
    "\n",
    "import matplotlib.pyplot as plt\n",
    "import numpy as np\n",
    "from matplotlib import colors\n",
    "from matplotlib.ticker import PercentFormatter\n",
    "\n",
    "from grid import get_data, create_grid\n",
    "\n",
    "%matplotlib inline "
   ]
  },
  {
   "cell_type": "code",
   "execution_count": 2,
   "metadata": {},
   "outputs": [],
   "source": [
    "plt.rcParams['figure.figsize'] = 12, 12"
   ]
  },
  {
   "cell_type": "code",
   "execution_count": 3,
   "metadata": {},
   "outputs": [],
   "source": [
    "def euclid_distance(state, state_other, eps = 1e-06):\n",
    "    return np.linalg.norm(np.array(state) - np.array(state_other))\n",
    "\n",
    "def man_distance(state, state_other, eps = 1e-06):\n",
    "    return np.subtract(np.array(state), np.array(state_other))"
   ]
  },
  {
   "cell_type": "code",
   "execution_count": 4,
   "metadata": {},
   "outputs": [],
   "source": [
    "def draw_grid(g, cmap = 'Greys', path = [], start = None, goal = None):\n",
    "    fig = plt.figure(figsize=(10,10))\n",
    "\n",
    "    plt.imshow(g, cmap=cmap, origin='lower')\n",
    "\n",
    "    plt.ylabel('NORTH')\n",
    "    plt.xlabel('EAST')\n",
    "    plt.ylim(ymin=0, ymax=g.shape[0])\n",
    "    plt.xlim(xmin=0, xmax=g.shape[1])\n",
    "    plt.gca().invert_yaxis()\n",
    "    \n",
    "    for i in path:\n",
    "        plt.scatter(int(i[1]), int(i[0]), c='red')\n",
    "    \n",
    "    if not start is None:\n",
    "        plt.scatter(int(start[1]), int(start[0]), c='blue')\n",
    "    \n",
    "    if not goal is None:\n",
    "        plt.scatter(int(goal[1]), int(goal[0]), c='green')\n",
    "\n",
    "    plt.show()"
   ]
  },
  {
   "cell_type": "code",
   "execution_count": 5,
   "metadata": {},
   "outputs": [],
   "source": [
    "def attraction(position, goal, alpha):\n",
    "    # TODO: implement attraction force\n",
    "    return alpha * man_distance(np.array(position), np.array(goal))\n",
    "    #return alpha * euclid_distance(np.array(position), np.array(goal))"
   ]
  },
  {
   "cell_type": "code",
   "execution_count": 6,
   "metadata": {},
   "outputs": [],
   "source": [
    "def repulsion(position, obstacle, beta, q_max):\n",
    "    # TODO: implement replusion force\n",
    "    distance = euclid_distance(position, obstacle)\n",
    "    \n",
    "    if (distance <= 0):\n",
    "        distance = 1e-06\n",
    "    \n",
    "    return beta * ((1.0 / q_max) - (1.0 / distance)) * (1.0 / distance * distance)"
   ]
  },
  {
   "cell_type": "markdown",
   "metadata": {},
   "source": [
    "Below we'll generate the potential field. For the purposes of the visualization we'll compute the field for the entire environment. Generally you'll only want to compute the field within a range around the current position for use in local planning."
   ]
  },
  {
   "cell_type": "code",
   "execution_count": 7,
   "metadata": {},
   "outputs": [],
   "source": [
    "def potential_field(grid, goal, alpha, beta, q_max):\n",
    "    x = []\n",
    "    y = []\n",
    "    fx = []\n",
    "    fy = []\n",
    "    fmap = np.zeros_like(grid)\n",
    "    \n",
    "    obs_i, obs_j = np.where(grid == 1)\n",
    "\n",
    "    for i in range(grid.shape[0]):\n",
    "        for j in range(grid.shape[1]):\n",
    "            if grid[i, j] == 0:\n",
    "                \n",
    "                # add attraction force\n",
    "                force = attraction([i, j], goal, alpha)\n",
    "\n",
    "                for (oi, oj) in zip(obs_i, obs_j):\n",
    "                    if euclid_distance([i, j], [oi, oj]) < q_max:\n",
    "                        # add replusion force\n",
    "                        force += repulsion([i, j], [oi, oj], beta, q_max)\n",
    "                    \n",
    "                x.append(i)\n",
    "                y.append(j)\n",
    "                fx.append(-force[0])\n",
    "                fy.append(-force[1])\n",
    "                fmap[i, j] = -force[0] + -force[1]\n",
    "                #ff.append(-force)\n",
    "    #return x, y, fx, fy\n",
    "    return x, y, fx, fy, fmap"
   ]
  },
  {
   "cell_type": "code",
   "execution_count": 8,
   "metadata": {},
   "outputs": [],
   "source": [
    "# generate environment\n",
    "start = (720, 100)\n",
    "goal = (10, 730)\n",
    "data = get_data(skiprows = 3)\n",
    "grid = create_grid(data, 30, 5)\n",
    "boundary = 10\n",
    "\n",
    "# constants\n",
    "alpha = 1.0\n",
    "beta = 4.0\n",
    "q_max = 10"
   ]
  },
  {
   "cell_type": "markdown",
   "metadata": {},
   "source": [
    "Generating the potential field."
   ]
  },
  {
   "cell_type": "code",
   "execution_count": null,
   "metadata": {},
   "outputs": [],
   "source": [
    "x, y, fx, fy, ff = potential_field(grid, goal, alpha, beta, q_max)\n",
    "#x, y, ff = potential_field(grid, goal, alpha, beta, q_max)"
   ]
  },
  {
   "cell_type": "markdown",
   "metadata": {},
   "source": [
    "Plotting the field. "
   ]
  },
  {
   "cell_type": "code",
   "execution_count": null,
   "metadata": {},
   "outputs": [],
   "source": [
    "plt.imshow(grid, cmap = 'Greys', origin='lower')\n",
    "plt.plot(goal[1], goal[0], 'ro')\n",
    "plt.quiver(y, x, fy, fx)\n",
    "#plt.quiver(y, x, ff, ff)\n",
    "plt.xlabel('X')\n",
    "plt.ylabel('Y')\n",
    "plt.show()"
   ]
  },
  {
   "cell_type": "code",
   "execution_count": null,
   "metadata": {},
   "outputs": [],
   "source": [
    "ngrid = np.zeros_like(grid)\n",
    "for i in x:\n",
    "    for j in y:\n",
    "        ngrid[i, j] = f"
   ]
  },
  {
   "cell_type": "code",
   "execution_count": null,
   "metadata": {},
   "outputs": [],
   "source": [
    "fig = plt.figure(figsize=(10,10))\n",
    "\n",
    "plt.imshow(ff, cmap=\"coolwarm\", origin='lower')\n",
    "\n",
    "plt.ylabel('NORTH')\n",
    "plt.xlabel('EAST')\n",
    "plt.ylim(ymin=0, ymax=g.shape[0])\n",
    "plt.xlim(xmin=0, xmax=g.shape[1])\n",
    "plt.gca().invert_yaxis()\n",
    "\n",
    "plt.scatter(int(start[1]), int(start[0]), c='blue')\n",
    "plt.scatter(int(goal[1]), int(goal[0]), c='green')\n",
    "\n",
    "plt.show()"
   ]
  },
  {
   "cell_type": "code",
   "execution_count": null,
   "metadata": {},
   "outputs": [],
   "source": []
  }
 ],
 "metadata": {
  "anaconda-cloud": {},
  "kernelspec": {
   "display_name": "Python 3",
   "language": "python",
   "name": "python3"
  },
  "language_info": {
   "codemirror_mode": {
    "name": "ipython",
    "version": 3
   },
   "file_extension": ".py",
   "mimetype": "text/x-python",
   "name": "python",
   "nbconvert_exporter": "python",
   "pygments_lexer": "ipython3",
   "version": "3.6.3"
  }
 },
 "nbformat": 4,
 "nbformat_minor": 2
}
